{
 "cells": [
  {
   "cell_type": "code",
   "execution_count": 2,
   "metadata": {},
   "outputs": [],
   "source": [
    "# recieve 1 at rightmost state and recieve small reward at leftmost state\n",
    "def test(episode_length, test_length):\n",
    "    \n",
    "    from chain_mdp import ChainMDP\n",
    "    from agent_chainMDP import agent\n",
    "    \n",
    "    env = ChainMDP(10)\n",
    "    s = env.reset()\n",
    "\n",
    "    \"\"\" Your agent\"\"\"\n",
    "    sa_list = []\n",
    "    for i in range(env.n):\n",
    "        for j in [0,1]:\n",
    "            sa_list.append((i, j))\n",
    "    agent_params = {'gamma'            : 0.9,\n",
    "                    'kappa'            : 1.0,\n",
    "                    'mu0'              : 0.0,\n",
    "                    'lamda'            : 4.0,\n",
    "                    'alpha'            : 3.0,\n",
    "                    'beta'             : 3.0,\n",
    "                    'max_iter'         : 100,\n",
    "                    'sa_list'          : sa_list}\n",
    "    agent = agent(agent_params)\n",
    "\n",
    "    # always move right left: 0, right: 1\n",
    "    # action = 1\n",
    "    for episode in range(episode_length):\n",
    "        s = env.reset()\n",
    "        done = False\n",
    "        while not done:\n",
    "            a = agent.take_action(s, 0)\n",
    "            # Step environment\n",
    "            s_, r, done, t = env.step(a)\n",
    "            agent.observe([t, s, a, r, s_])\n",
    "            agent.update_after_step(10, True)\n",
    "            # Update current state\n",
    "            s = s_\n",
    "\n",
    "    total_reward = 0\n",
    "    for episode in range(test_length):\n",
    "        cum_reward = 0.0\n",
    "        done = False\n",
    "        s = env.reset()\n",
    "        while not done: \n",
    "            action = agent.take_action(s, 0)\n",
    "            s_, r, done, t = env.step(action)\n",
    "            #print(s_, r, t)\n",
    "            cum_reward += r\n",
    "            s = s_\n",
    "        total_reward += cum_reward\n",
    "        \n",
    "        \n",
    "    return total_reward/test_length"
   ]
  },
  {
   "cell_type": "code",
   "execution_count": 6,
   "metadata": {},
   "outputs": [
    {
     "name": "stderr",
     "output_type": "stream",
     "text": [
      "100%|██████████| 1000/1000 [3:35:23<00:00, 12.92s/it] \n"
     ]
    }
   ],
   "source": [
    "import matplotlib.pyplot as plt\n",
    "from tqdm import tqdm\n",
    "#list = [i for i in range(0, 1000, 10)]\n",
    "average_reward = []\n",
    "for i in tqdm(range(1000)):\n",
    "    average_reward.append(test(1000, 10))\n"
   ]
  },
  {
   "cell_type": "code",
   "execution_count": 8,
   "metadata": {},
   "outputs": [
    {
     "data": {
      "text/plain": [
       "[<matplotlib.lines.Line2D at 0x2ce75085608>]"
      ]
     },
     "execution_count": 8,
     "metadata": {},
     "output_type": "execute_result"
    },
    {
     "data": {
      "image/png": "[encoded data removed]",
      "text/plain": [
       "<Figure size 432x288 with 1 Axes>"
      ]
     },
     "metadata": {
      "needs_background": "light"
     },
     "output_type": "display_data"
    }
   ],
   "source": [
    "import matplotlib.pyplot as plt\n",
    "\n",
    "plt.plot([i for i in range(1000)], average_reward)"
   ]
  },
  {
   "cell_type": "code",
   "execution_count": 9,
   "metadata": {},
   "outputs": [
    {
     "data": {
      "text/plain": [
       "[<matplotlib.lines.Line2D at 0x2ce7909eb48>]"
      ]
     },
     "execution_count": 9,
     "metadata": {},
     "output_type": "execute_result"
    },
    {
     "data": {
      "image/png": "[encoded data removed]",
      "text/plain": [
       "<Figure size 432x288 with 1 Axes>"
      ]
     },
     "metadata": {
      "needs_background": "light"
     },
     "output_type": "display_data"
    }
   ],
   "source": [
    "list = [i for i in range(0, 100, 10)]\n",
    "average_reward = []\n",
    "for i in list:\n",
    "    average_reward.append(test(i, 1000))\n",
    "\n",
    "plt.plot(list, average_reward)"
   ]
  },
  {
   "cell_type": "code",
   "execution_count": 4,
   "metadata": {},
   "outputs": [],
   "source": [
    "def test(episode_length):\n",
    "    \n",
    "    from chain_mdp import ChainMDP\n",
    "    from agent_chainMDP import agent\n",
    "    \n",
    "    env = ChainMDP(10)\n",
    "    s = env.reset()\n",
    "\n",
    "    \"\"\" Your agent\"\"\"\n",
    "    sa_list = []\n",
    "    for i in range(env.n):\n",
    "        for j in [0,1]:\n",
    "            sa_list.append((i, j))\n",
    "    agent_params = {'gamma'            : 0.9,\n",
    "                    'kappa'            : 1.0,\n",
    "                    'mu0'              : 0.0,\n",
    "                    'lamda'            : 4.0,\n",
    "                    'alpha'            : 3.0,\n",
    "                    'beta'             : 3.0,\n",
    "                    'max_iter'         : 100,\n",
    "                    'sa_list'          : sa_list}\n",
    "    agent = agent(agent_params)\n",
    "\n",
    "    # always move right left: 0, right: 1\n",
    "    # action = 1\n",
    "    reward = []\n",
    "    for episode in range(episode_length):\n",
    "        s = env.reset()\n",
    "        done = False\n",
    "        cum_reward = 0\n",
    "        while not done:\n",
    "            a = agent.take_action(s, 0)\n",
    "            # Step environment\n",
    "            s_, r, done, t = env.step(a)\n",
    "            agent.observe([t, s, a, r, s_])\n",
    "            agent.update_after_step(10, True)\n",
    "            # Update current state\n",
    "            s = s_\n",
    "            cum_reward += r\n",
    "        reward.append(cum_reward)\n",
    "\n",
    "    x_range = [i for i in range(1000)]\n",
    "\n",
    "    return reward"
   ]
  },
  {
   "cell_type": "code",
   "execution_count": 5,
   "metadata": {},
   "outputs": [
    {
     "data": {
      "text/plain": [
       "[<matplotlib.lines.Line2D at 0x1c1e866b308>]"
      ]
     },
     "execution_count": 5,
     "metadata": {},
     "output_type": "execute_result"
    },
    {
     "data": {
      "image/png": "[encoded data removed]",
      "text/plain": [
       "<Figure size 432x288 with 1 Axes>"
      ]
     },
     "metadata": {
      "needs_background": "light"
     },
     "output_type": "display_data"
    }
   ],
   "source": [
    "import matplotlib.pyplot as plt\n",
    "reward = test(1000)\n",
    "x_range = [i for i in range(1000)]\n",
    "plt.plot(x_range, reward)"
   ]
  }
 ],
 "metadata": {
  "interpreter": {
   "hash": "309217059b21e463426ec8246ca9cdd545d11caed5034df65876e7df1e5632c6"
  },
  "kernelspec": {
   "display_name": "Python 3.7.13 ('tf')",
   "language": "python",
   "name": "python3"
  },
  "language_info": {
   "codemirror_mode": {
    "name": "ipython",
    "version": 3
   },
   "file_extension": ".py",
   "mimetype": "text/x-python",
   "name": "python",
   "nbconvert_exporter": "python",
   "pygments_lexer": "ipython3",
   "version": "3.7.13"
  },
  "orig_nbformat": 4
 },
 "nbformat": 4,
 "nbformat_minor": 2
}
